{
 "cells": [
  {
   "cell_type": "markdown",
   "metadata": {},
   "source": [
    "## This is a discussion for using Quaternion math for rotations.  <br> It uses some computer science terminology: 'overloads' and 'interface\""
   ]
  },
  {
   "cell_type": "markdown",
   "metadata": {},
   "source": [
    "\n",
    "This explanation is documentation for two python files:  q3a.py and plotPrims.py <br>\n",
    "\n",
    "Some computer science terminology will be used to explain quaternions:'overload' and 'interface'\n",
    "\n",
    "In this write up, quaternions use\n",
    "a format of [scalar, x, y, z] and not [x,y,z,scalar].  First format is called Hamilton's and 2nd format is called JPL.\n",
    "This article will use Hamilton's format.\n",
    "\n",
    "We present quaternions as having 'overloads'.  \n",
    "\n",
    "First overload is a quaternion that is a rotator.  In our example, rotator is for Z axis only. <br>\n",
    " [scalar, X, Y, Z] becomes  <br>\n",
    " [scalar = cos of rotating angle in radians,  <br>\n",
    "   X = rotating angle about x axis = 0 radians,  <br>\n",
    "   Y = rotating angle about y axis = 0 radians,  <br>\n",
    "   Z = rotating angle about z axis = sin of scalar radians]  <br>\n",
    "  \n",
    " Note:  This is notebook, so reader can change python code to rotate another axis:X Y Z, combination or all.  Also change angle of rotation.\n",
    "\n",
    " 2nd overloaded is a quaternion as a 'pure quaternion';  <br>\n",
    " [scalar, X, Y, Z] becomes [0, X, Y, Z].  <br>\n",
    " Where X Y Z represents a point's coordinates in 3D space.  <br>\n",
    " \n",
    "Note:  plotPrism.py is coded to handle a fixed range of X Y Z.  In next iteration it will handle a wider range.  Reader can also coordinate values of X Y Z.\n",
    " \n",
    " Procedure: quaternion rotator multiplied with pure quaternion and result\n",
    " is a 2nd pure quaternion.\n",
    "\n",
    " To display this rotation,\n",
    " we fill out wire frames of both pure quaternions where initial (X Y Z) is a vertex \n",
    " of a prism and  rotated (X Y Z) is a vertex of a second prism.\n",
    " Both wire frames have a 3D origin, as a vertex (0,0,0)\n",
    " Highlighted are original and rotated points.  \n",
    "\n",
    " To prove that wire frames are correct, run the python code and rotate\n",
    " image along its axes.\n",
    " \n",
    " In fig below we have an image of a rotation.\n"
   ]
  },
  {
   "cell_type": "code",
   "execution_count": 12,
   "metadata": {},
   "outputs": [],
   "source": [
    "from IPython.display import Image \n",
    "# A highlighted point displayed as a vertex in light blue prism is rotated to a \n",
    "# highlighted point, represented as a vertex in a light purple prism\n",
    "# Rotation is about a 'Z' axis."
   ]
  },
  {
   "cell_type": "markdown",
   "metadata": {},
   "source": [
    "![\"Result\"](img/Result.png)\n"
   ]
  },
  {
   "cell_type": "code",
   "execution_count": 13,
   "metadata": {},
   "outputs": [
    {
     "name": "stdout",
     "output_type": "stream",
     "text": [
      "plotPrism.py must be in following directory\n",
      "C:\\github\\clones\\Display.Quaternion.Wedge.Product\\Quaternion.python\n"
     ]
    }
   ],
   "source": [
    "import math\n",
    "import numpy as np\n",
    "import matplotlib.pyplot as plt\n",
    "import os\n",
    "import sys\n",
    "plotprism_path = os.path.abspath(os.path.join(''))\n",
    "print(\"plotPrism.py must be in following directory\")\n",
    "print(plotprism_path)\n",
    "if plotprism_path not in sys.path:\n",
    "    sys.path.append(plotprism_path)\n",
    "    \n",
    "from plotPrism import plot_prism #plotprism.py\n",
    "\n",
    "\n",
    "def normalize(v, tolerance=0.00001):\n",
    "    mag2 = sum(n * n for n in v)\n",
    "    if abs(mag2 - 1.0) > tolerance:\n",
    "        mag = math.sqrt(mag2)\n",
    "        v = tuple(n / mag for n in v)\n",
    "    return np.array(v)"
   ]
  },
  {
   "cell_type": "markdown",
   "metadata": {},
   "source": [
    "## Key math algorithms."
   ]
  },
  {
   "cell_type": "markdown",
   "metadata": {},
   "source": [
    "\n",
    "\n",
    "Hamilton solved several issues to make this work.\n",
    "He devised quaternion structures, their overloads and a complex number interface for quaternion multiplication.\n",
    "We have covered two quaternion overloads, that are used in rotations.\n",
    "\n",
    "This complex number interface reduces a multiplication of quaternions to a 'pure quaternion'\n"
   ]
  },
  {
   "cell_type": "markdown",
   "metadata": {},
   "source": [
    "## 'Complex Number Interface' to generate multiplication algorithm for quaternions"
   ]
  },
  {
   "cell_type": "markdown",
   "metadata": {},
   "source": [
    "When a quaternion multiplies a 2nd quaternion, Hamilton used 'exterior product'. <br>\n",
    "Quaternion 1: [a0,a1,a3,a4] <br>\n",
    "Quaternion 2: [b0,b1,b2,b3] <br>\n",
    "\n",
    "Multiplication result: <br>\n",
    "a0b0 + a0b1 + a0b2+ a0b3 + <br>\n",
    "a1b0 + a1b1 + a1b2+ a1b3 + <br>\n",
    "a2b0 + a2b1 + a2b2+ a2b3 + <br>\n",
    "a3b0 + a3b1 + a3b2+ a3b3  <br>\n",
    "\n",
    "With a 'complex number interface' we could then reduce these multiplication results to a [X Y Z] or pure quaternion.\n",
    "\n"
   ]
  },
  {
   "cell_type": "markdown",
   "metadata": {},
   "source": [
    "### Generate a  'Complex Number Interface' to get a quaternion multiplication function"
   ]
  },
  {
   "cell_type": "markdown",
   "metadata": {},
   "source": [
    "A complex number interface also has three axes: i, j, k.  They interface to X,Y,Z axis.  This interface will allow us to simplify quaternion multiplication to a pure quaternion.\n",
    "\n",
    "First we need some rules for complex number multiplication.  With this interface we will then do some substitutions.\n",
    "\n",
    "Hamilton discovered that ijk = -1 and of course ii, jj, kk = -1.  It's not commutative.  kj neq jk. But kj eq -jk (neq is not equal)\n",
    "This interface creates a table where a single complex number equals a combination of two complex numbers\n",
    "\n",
    "ijk = -1 <br>\n",
    "iijk = -i <br>\n",
    "-jk = -i <br>\n",
    "jk = i  Therefore kj = -i <br>\n",
    "\n",
    "ijk = -1<br>\n",
    "-ikj = -1<br>\n",
    "kij = -i<br>\n",
    "kkij = -k  <br>\n",
    "-ij = -k\n",
    "ij=k  Therefore ji = -k<br>\n",
    "\n",
    "ijk = -1<br>\n",
    "-jik = -1<br>\n",
    "-jjik = -j<br>\n",
    "ik = -j  Therefore ki = j<br>\n",
    "\n",
    "Now we redo the multiplication of two quaternions<br>\n",
    "Quaternion 1: [a0,a1i,a2j,a3k]<br>\n",
    "Quaternion 2: [b0,b1i,b2j,b3k]<br>\n",
    "\n",
    " a0b0 + a0b1i + a0b2j+ a0b3k +<br>\n",
    " a1ib0 + a1ib1i + a1ib2j+ a1ib3k +<br>\n",
    " a2jb0 + a2jb1i + a2jb2j+ a2jb3k +<br>\n",
    " a3kb0 + a3kb1i + a3kb2j+ a3kb3k <br>\n",
    "\n",
    "We restate it, by collecting complex variables together.<br>\n",
    "\n",
    "a0b0 + (a0b1)i + (a0b2)j+ (a0b3)k +<br>\n",
    "(a1b0)i + (a1b1)ii + (a1b2)ij+ (a1b3)ik +<br>\n",
    "(a2b0)j + (a2b1)ji + (a2b2)jj+ (a2b3)jk +<br>\n",
    "(a3b0)k + (a3b1)ki + (a3b2)kj+ (a3b3)kk <br>\n",
    "\n",
    "Then we substitute pairs of complex variables with a single complex variable.<br>\n",
    "a0b0 + (a0b1)i + (a0b2)j+ (a0b3)k +<br>\n",
    "(a1b0)i + (a1b1)-1 + (a1b2)k+ (a1b3)-j +<br>\n",
    "(a2b0)j + (a2b1)-k + (a2b2)-1+ (a2b3)i +<br>\n",
    "(a3b0)k + (a3b1)j + (a3b2)-i+ (a3b3)-1 <br>\n",
    "\n",
    "Next, we group by scalar or i, j, k <br>\n",
    "a0b0 - (a1b1) - (a2b2) -(a3b3)   # scalars <br>\n",
    "((a0b1) +a1b0) + (a2b3) - (a3b2))i  # i's<br>\n",
    "((a0b2) - (a1b3) + (a2b0) + (a3b1)j  # j's<br>\n",
    "((a0b3) + (a1b2) - (a2b1) +  (a3b0))k  # k's<br>\n",
    "\n",
    "Now we have an interface for formula for our python file:\n",
    "\n",
    "We substitute pq[0] for a0 and r[0] for b0 etc...   This will result in <br>\n",
    "a pure quaternion of [Scalar, X, Y ,Z]\n"
   ]
  },
  {
   "cell_type": "code",
   "execution_count": 14,
   "metadata": {},
   "outputs": [],
   "source": [
    "\n",
    "def quaternion_mult(r,pq):\n",
    "    return [pq[0]*r[0]-pq[1]*r[1]-pq[2]*r[2]-pq[3]*r[3],\n",
    "            pq[0]*r[1]+pq[1]*r[0]+pq[2]*r[3]-pq[3]*r[2],\n",
    "            pq[0]*r[2]-pq[1]*r[3]+pq[2]*r[0]+pq[3]*r[1],\n",
    "            pq[0]*r[3]+pq[1]*r[2]-pq[2]*r[1]+pq[3]*r[0]]\n",
    "\n",
    "# pq is pure quaternion\n",
    "# rq is rotator quaternion\n",
    "def point_rotation_by_quaternion(pq,rq):\n",
    "    r = normalize(rq)\n",
    "    r_conj = [r[0],-1*r[1],-1*r[2],-1*r[3]]\n",
    "    return quaternion_mult(quaternion_mult(r,pq),r_conj)"
   ]
  },
  {
   "cell_type": "markdown",
   "metadata": {},
   "source": [
    "Below are our two overloaded quaternions, with their angle of rotation. <br>\n",
    "These values can be changed by reader.<br>\n",
    "Note that plotPrism.py, currently can only handle a narrow range of values. This will be extended on a next version of code.<br>\n",
    "Note:  A formula for rotating a point (x, y) in 2D is given by: <br>\n",
    "\n",
    "x': = x * cos (angle) - y * sin (angle) <br>\n",
    "y': = y * cos (angle) + x * sin (angle) <br>"
   ]
  },
  {
   "cell_type": "code",
   "execution_count": 18,
   "metadata": {},
   "outputs": [],
   "source": [
    "degrees = math.pi/180;\n",
    "rot = 180*degrees;\n",
    "# for rotating about an axis.\n",
    "w = math.cos(rot/2.);\n",
    "ax = math.sin(rot/2.);\n",
    "# quaternion format is [scalar, x, y ,z]\n",
    "pq = [0, 1, 2, 3]  # pure quaternion.  Scalar is zero.\n",
    "rq = [w, 0, 0, ax]  # play with ax on different axis: x,y,z  Change values of w and ax.\n",
    "\n"
   ]
  },
  {
   "cell_type": "markdown",
   "metadata": {},
   "source": [
    "#### We now apply rotation algorithms"
   ]
  },
  {
   "cell_type": "code",
   "execution_count": 19,
   "metadata": {},
   "outputs": [
    {
     "name": "stdout",
     "output_type": "stream",
     "text": [
      "[0.0, -0.9999999999999998, -2.0, 3.0]\n"
     ]
    }
   ],
   "source": [
    "pq2 = point_rotation_by_quaternion(pq,rq)\n",
    "print(pq2)\n",
    "\n"
   ]
  },
  {
   "cell_type": "markdown",
   "metadata": {},
   "source": [
    "### We now prep for display purposes"
   ]
  },
  {
   "cell_type": "code",
   "execution_count": 20,
   "metadata": {},
   "outputs": [
    {
     "data": {
      "image/png": "[encoded data removed]",
      "text/plain": [
       "<Figure size 432x288 with 1 Axes>"
      ]
     },
     "metadata": {
      "needs_background": "light"
     },
     "output_type": "display_data"
    }
   ],
   "source": [
    "# Fill in a start prism wire frame, using point and a 3D origin as vertices\n",
    "# Highlight point as vertex\n",
    "\n",
    "p1 = np.array([0.,0.,0.])\n",
    "p2 = np.array([pq[1],0.,0.])\n",
    "p3 = np.array([0.,pq[2],0.])\n",
    "p4 = np.array([0.,0.,pq[3]])\n",
    "\n",
    "prism1 = [\n",
    "    (p1[0],p1[1],p1[2]), (p2[0],p2[1],p2[2]), (p3[0],p3[1],p3[2]), (p4[0],p4[1],p4[2])\n",
    "]\n",
    "\n",
    "# Fill in a rotated prism wire frame, using point and a 3D origin as vertices\n",
    "# Highlight point as vertex\n",
    "\n",
    "p1A = np.array([0.,0.,0.])\n",
    "p2A = np.array([pq2[1],0.,0.])\n",
    "p3A = np.array([0.,pq2[2],0.])\n",
    "p4A = np.array([0.,0.,pq2[3]])\n",
    "\n",
    "prism2 = [\n",
    "    (p1A[0],p1A[1],p1A[2]), (p2A[0],p2A[1],p2A[2]), (p3A[0],p3A[1],p3A[2]), (p4A[0],p4A[1],p4A[2])\n",
    "]\n",
    "\n",
    "# to prove that plot is correct, you need to rotate image along its axes.\n",
    "\n",
    "plot_prism(prism1,prism2)"
   ]
  },
  {
   "cell_type": "markdown",
   "metadata": {},
   "source": [
    "This image can be rotated by running files q3a.py and plotPrism.py in a python ide like 'Sublime Text'\n",
    "\n",
    "Notes:  This point being rotated could be a significant point of a geometric object.  For a sphere, it could represent a center. Quaternion rotation is meant to preserve shape.\n",
    "        "
   ]
  },
  {
   "cell_type": "code",
   "execution_count": null,
   "metadata": {},
   "outputs": [],
   "source": []
  }
 ],
 "metadata": {
  "kernelspec": {
   "display_name": "Python 3",
   "language": "python",
   "name": "python3"
  },
  "language_info": {
   "codemirror_mode": {
    "name": "ipython",
    "version": 3
   },
   "file_extension": ".py",
   "mimetype": "text/x-python",
   "name": "python",
   "nbconvert_exporter": "python",
   "pygments_lexer": "ipython3",
   "version": "3.8.6"
  }
 },
 "nbformat": 4,
 "nbformat_minor": 4
}
